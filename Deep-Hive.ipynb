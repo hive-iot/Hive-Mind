{
 "cells": [
  {
   "cell_type": "markdown",
   "metadata": {
    "collapsed": true
   },
   "source": [
    "# Get Bee Hive Data"
   ]
  },
  {
   "cell_type": "code",
   "execution_count": 1,
   "metadata": {
    "collapsed": true
   },
   "outputs": [],
   "source": [
    "import glob\n",
    "import numpy as np\n",
    "import pandas as pd"
   ]
  },
  {
   "cell_type": "code",
   "execution_count": 2,
   "metadata": {
    "collapsed": true
   },
   "outputs": [],
   "source": [
    "hives = glob.glob(\"data/*.txt\")\n",
    "df = pd.DataFrame(columns=[\"date\", \"weight\", \"hive_temp\", \"hive_hum\", \"out_temp\", \n",
    "                            \"out_hum\", \"1\", \"2\", \"3\", \"4\", \"5\", \"6\", \"7\", \"8\", \n",
    "                            \"9\", \"10\", \"11\"])\n",
    "for hive in hives:\n",
    "    temp = pd.read_csv(hive, \n",
    "                     names=[\"date\", \"weight\", \"hive_temp\", \"hive_hum\", \"out_temp\", \n",
    "                            \"out_hum\", \"1\", \"2\", \"3\", \"4\", \"5\", \"6\", \"7\", \"8\", \n",
    "                            \"9\", \"10\", \"11\"])\n",
    "    df = df.append(temp)"
   ]
  },
  {
   "cell_type": "code",
   "execution_count": 3,
   "metadata": {
    "collapsed": true
   },
   "outputs": [],
   "source": [
    "df = df.drop([\"date\", \"1\", \"2\", \"3\", \"4\", \"5\", \"6\", \"7\", \"8\", \"9\", \"10\", \"11\"], axis = 1)"
   ]
  },
  {
   "cell_type": "code",
   "execution_count": 4,
   "metadata": {
    "collapsed": true
   },
   "outputs": [],
   "source": [
    "df = df.dropna()"
   ]
  },
  {
   "cell_type": "markdown",
   "metadata": {},
   "source": [
    "# Normalize Data"
   ]
  },
  {
   "cell_type": "code",
   "execution_count": 5,
   "metadata": {
    "collapsed": true
   },
   "outputs": [],
   "source": [
    "from sklearn.preprocessing import StandardScaler"
   ]
  },
  {
   "cell_type": "code",
   "execution_count": 6,
   "metadata": {
    "collapsed": true
   },
   "outputs": [],
   "source": [
    "x_scaled = df.values.astype(\"float\")\n",
    "scaler = StandardScaler()\n",
    "scaler.fit(x_scaled)\n",
    "x_scaled = scaler.transform(x_scaled)\n",
    "df_scaled = pd.DataFrame(x_scaled)"
   ]
  },
  {
   "cell_type": "markdown",
   "metadata": {},
   "source": [
    "# Reshape Model for Model"
   ]
  },
  {
   "cell_type": "code",
   "execution_count": 7,
   "metadata": {
    "collapsed": true
   },
   "outputs": [],
   "source": [
    "def make_windows(data, size):\n",
    "    X = []\n",
    "    Y = []\n",
    "    i = 0\n",
    "    while(i+size) <= len(data)-1:\n",
    "        X.append(data[i:i+size])\n",
    "        Y.append(data[i + size])\n",
    "        i += 1\n",
    "        \n",
    "    return X,Y"
   ]
  },
  {
   "cell_type": "code",
   "execution_count": 8,
   "metadata": {
    "collapsed": true
   },
   "outputs": [],
   "source": [
    "train = x_scaled[0 : int(len(x_scaled)*.8)]\n",
    "test  = x_scaled[int(len(x_scaled)*.8) : len(x_scaled)]"
   ]
  },
  {
   "cell_type": "code",
   "execution_count": 9,
   "metadata": {
    "collapsed": true
   },
   "outputs": [],
   "source": [
    "X_train, Y_train = make_windows(train, 32)\n",
    "X_test, Y_test = make_windows(train, 32)"
   ]
  },
  {
   "cell_type": "code",
   "execution_count": 10,
   "metadata": {
    "collapsed": true
   },
   "outputs": [],
   "source": [
    "X_train = np.array(X_train).reshape(len(X_train), len(X_train[0]), 5)\n",
    "X_test = np.array(X_test).reshape(len(X_test), len(X_test[0]), 5)"
   ]
  },
  {
   "cell_type": "code",
   "execution_count": 11,
   "metadata": {
    "collapsed": true
   },
   "outputs": [],
   "source": [
    "Y_train = np.array(Y_train).reshape(-1,5)\n",
    "Y_test = np.array(Y_test).reshape(-1,5)"
   ]
  },
  {
   "cell_type": "code",
   "execution_count": 12,
   "metadata": {},
   "outputs": [
    {
     "name": "stdout",
     "output_type": "stream",
     "text": [
      "[-1.16304012 -0.52874706  0.38280518  0.50429881  0.24341347]\n"
     ]
    }
   ],
   "source": [
    "print(Y_train[0])"
   ]
  },
  {
   "cell_type": "markdown",
   "metadata": {},
   "source": [
    "# Build Model (Supervised RNN)"
   ]
  },
  {
   "cell_type": "code",
   "execution_count": 13,
   "metadata": {},
   "outputs": [
    {
     "name": "stderr",
     "output_type": "stream",
     "text": [
      "C:\\Users\\Adrian\\Anaconda3\\lib\\site-packages\\h5py\\__init__.py:34: FutureWarning: Conversion of the second argument of issubdtype from `float` to `np.floating` is deprecated. In future, it will be treated as `np.float64 == np.dtype(float).type`.\n",
      "  from ._conv import register_converters as _register_converters\n",
      "Using TensorFlow backend.\n"
     ]
    }
   ],
   "source": [
    "import tensorflow\n",
    "from keras.layers import LSTM, Dense, Dropout, TimeDistributed\n",
    "from keras.models import Sequential"
   ]
  },
  {
   "cell_type": "code",
   "execution_count": 14,
   "metadata": {
    "collapsed": true
   },
   "outputs": [],
   "source": [
    "model = Sequential()\n",
    "model.add(LSTM(16, input_shape=(32,5), return_sequences=True))\n",
    "model.add(LSTM(16, return_sequences=True))\n",
    "model.add(LSTM(8, return_sequences=False))\n",
    "model.add(Dense(5))\n",
    "model.compile(optimizer='adam', loss='mse')"
   ]
  },
  {
   "cell_type": "code",
   "execution_count": 15,
   "metadata": {},
   "outputs": [
    {
     "name": "stdout",
     "output_type": "stream",
     "text": [
      "Epoch 1/128\n",
      "9057/9057 [==============================] - 9s 976us/step - loss: 0.6247\n",
      "Epoch 2/128\n",
      "9057/9057 [==============================] - 7s 778us/step - loss: 0.4072\n",
      "Epoch 3/128\n",
      "9057/9057 [==============================] - 7s 764us/step - loss: 0.3357\n",
      "Epoch 4/128\n",
      "9057/9057 [==============================] - 7s 774us/step - loss: 0.2978\n",
      "Epoch 5/128\n",
      "9057/9057 [==============================] - 7s 770us/step - loss: 0.2734\n",
      "Epoch 6/128\n",
      "9057/9057 [==============================] - 7s 764us/step - loss: 0.2539\n",
      "Epoch 7/128\n",
      "9057/9057 [==============================] - 7s 774us/step - loss: 0.2396\n",
      "Epoch 8/128\n",
      "9057/9057 [==============================] - 7s 771us/step - loss: 0.2279\n",
      "Epoch 9/128\n",
      "9057/9057 [==============================] - 7s 771us/step - loss: 0.2168\n",
      "Epoch 10/128\n",
      "9057/9057 [==============================] - 7s 787us/step - loss: 0.2081\n",
      "Epoch 11/128\n",
      "9057/9057 [==============================] - 7s 774us/step - loss: 0.2025\n",
      "Epoch 12/128\n",
      "9057/9057 [==============================] - 7s 766us/step - loss: 0.1973\n",
      "Epoch 13/128\n",
      "9057/9057 [==============================] - 7s 774us/step - loss: 0.1927\n",
      "Epoch 14/128\n",
      "9057/9057 [==============================] - 7s 772us/step - loss: 0.1893\n",
      "Epoch 15/128\n",
      "9057/9057 [==============================] - 7s 766us/step - loss: 0.1861\n",
      "Epoch 16/128\n",
      "9057/9057 [==============================] - 7s 770us/step - loss: 0.1839\n",
      "Epoch 17/128\n",
      "9057/9057 [==============================] - 7s 828us/step - loss: 0.1800\n",
      "Epoch 18/128\n",
      "9057/9057 [==============================] - 7s 782us/step - loss: 0.1786\n",
      "Epoch 19/128\n",
      "9057/9057 [==============================] - 7s 768us/step - loss: 0.1758\n",
      "Epoch 20/128\n",
      "9057/9057 [==============================] - 7s 782us/step - loss: 0.1728\n",
      "Epoch 21/128\n",
      "9057/9057 [==============================] - 7s 769us/step - loss: 0.1713\n",
      "Epoch 22/128\n",
      "9057/9057 [==============================] - 7s 769us/step - loss: 0.1690\n",
      "Epoch 23/128\n",
      "9057/9057 [==============================] - 7s 784us/step - loss: 0.1675\n",
      "Epoch 24/128\n",
      "9057/9057 [==============================] - 7s 767us/step - loss: 0.1666\n",
      "Epoch 25/128\n",
      "9057/9057 [==============================] - 7s 771us/step - loss: 0.1646\n",
      "Epoch 26/128\n",
      "9057/9057 [==============================] - 7s 773us/step - loss: 0.1675\n",
      "Epoch 27/128\n",
      "9057/9057 [==============================] - 7s 779us/step - loss: 0.1634\n",
      "Epoch 28/128\n",
      "9057/9057 [==============================] - 7s 781us/step - loss: 0.1599\n",
      "Epoch 29/128\n",
      "9057/9057 [==============================] - 7s 766us/step - loss: 0.1583\n",
      "Epoch 30/128\n",
      "9057/9057 [==============================] - 7s 784us/step - loss: 0.1577\n",
      "Epoch 31/128\n",
      "9057/9057 [==============================] - 7s 769us/step - loss: 0.1572\n",
      "Epoch 32/128\n",
      "9057/9057 [==============================] - 7s 766us/step - loss: 0.1552\n",
      "Epoch 33/128\n",
      "9057/9057 [==============================] - 7s 790us/step - loss: 0.1544\n",
      "Epoch 34/128\n",
      "9057/9057 [==============================] - 7s 773us/step - loss: 0.1541\n",
      "Epoch 35/128\n",
      "9057/9057 [==============================] - 7s 772us/step - loss: 0.1526\n",
      "Epoch 36/128\n",
      "9057/9057 [==============================] - 7s 787us/step - loss: 0.1520\n",
      "Epoch 37/128\n",
      "9057/9057 [==============================] - 7s 781us/step - loss: 0.1510\n",
      "Epoch 38/128\n",
      "9057/9057 [==============================] - 7s 780us/step - loss: 0.1496\n",
      "Epoch 39/128\n",
      "9057/9057 [==============================] - 7s 788us/step - loss: 0.1487\n",
      "Epoch 40/128\n",
      "9057/9057 [==============================] - 7s 786us/step - loss: 0.1485\n",
      "Epoch 41/128\n",
      "9057/9057 [==============================] - 7s 779us/step - loss: 0.1471\n",
      "Epoch 42/128\n",
      "9057/9057 [==============================] - 7s 786us/step - loss: 0.1466\n",
      "Epoch 43/128\n",
      "9057/9057 [==============================] - 7s 793us/step - loss: 0.1455\n",
      "Epoch 44/128\n",
      "9057/9057 [==============================] - 7s 795us/step - loss: 0.1459\n",
      "Epoch 45/128\n",
      "9057/9057 [==============================] - 7s 788us/step - loss: 0.1442\n",
      "Epoch 46/128\n",
      "9057/9057 [==============================] - 7s 797us/step - loss: 0.1440\n",
      "Epoch 47/128\n",
      "9057/9057 [==============================] - 7s 779us/step - loss: 0.1426\n",
      "Epoch 48/128\n",
      "9057/9057 [==============================] - 7s 788us/step - loss: 0.1421\n",
      "Epoch 49/128\n",
      "9057/9057 [==============================] - 7s 792us/step - loss: 0.1428\n",
      "Epoch 50/128\n",
      "9057/9057 [==============================] - 7s 783us/step - loss: 0.1416\n",
      "Epoch 51/128\n",
      "9057/9057 [==============================] - 7s 807us/step - loss: 0.1411\n",
      "Epoch 52/128\n",
      "9057/9057 [==============================] - 7s 793us/step - loss: 0.1412\n",
      "Epoch 53/128\n",
      "9057/9057 [==============================] - 7s 766us/step - loss: 0.1401\n",
      "Epoch 54/128\n",
      "9057/9057 [==============================] - 7s 787us/step - loss: 0.1402\n",
      "Epoch 55/128\n",
      "9057/9057 [==============================] - 7s 784us/step - loss: 0.1395\n",
      "Epoch 56/128\n",
      "9057/9057 [==============================] - 7s 764us/step - loss: 0.1385\n",
      "Epoch 57/128\n",
      "9057/9057 [==============================] - 7s 762us/step - loss: 0.1387\n",
      "Epoch 58/128\n",
      "9057/9057 [==============================] - 7s 784us/step - loss: 0.1383\n",
      "Epoch 59/128\n",
      "9057/9057 [==============================] - 7s 772us/step - loss: 0.1369\n",
      "Epoch 60/128\n",
      "9057/9057 [==============================] - 7s 770us/step - loss: 0.1372\n",
      "Epoch 61/128\n",
      "9057/9057 [==============================] - 7s 778us/step - loss: 0.1362\n",
      "Epoch 62/128\n",
      "9057/9057 [==============================] - 7s 770us/step - loss: 0.1362\n",
      "Epoch 63/128\n",
      "9057/9057 [==============================] - 7s 772us/step - loss: 0.1367\n",
      "Epoch 64/128\n",
      "9057/9057 [==============================] - 7s 775us/step - loss: 0.1366\n",
      "Epoch 65/128\n",
      "9057/9057 [==============================] - 7s 780us/step - loss: 0.1375\n",
      "Epoch 66/128\n",
      "9057/9057 [==============================] - 7s 773us/step - loss: 0.1359\n",
      "Epoch 67/128\n",
      "9057/9057 [==============================] - 7s 775us/step - loss: 0.1354\n",
      "Epoch 68/128\n",
      "9057/9057 [==============================] - 7s 788us/step - loss: 0.1337\n",
      "Epoch 69/128\n",
      "9057/9057 [==============================] - 7s 774us/step - loss: 0.1339\n",
      "Epoch 70/128\n",
      "9057/9057 [==============================] - 7s 775us/step - loss: 0.1331\n",
      "Epoch 71/128\n",
      "9057/9057 [==============================] - 7s 780us/step - loss: 0.1335\n",
      "Epoch 72/128\n",
      "9057/9057 [==============================] - 7s 798us/step - loss: 0.1349\n",
      "Epoch 73/128\n",
      "9057/9057 [==============================] - 7s 815us/step - loss: 0.1331\n",
      "Epoch 74/128\n",
      "9057/9057 [==============================] - 7s 819us/step - loss: 0.1317\n",
      "Epoch 75/128\n",
      "9057/9057 [==============================] - 7s 800us/step - loss: 0.1322\n",
      "Epoch 76/128\n",
      "9057/9057 [==============================] - 8s 841us/step - loss: 0.1321\n",
      "Epoch 77/128\n",
      "9057/9057 [==============================] - 7s 767us/step - loss: 0.1310\n",
      "Epoch 78/128\n",
      "9057/9057 [==============================] - 7s 801us/step - loss: 0.1315\n",
      "Epoch 79/128\n",
      "9057/9057 [==============================] - 7s 816us/step - loss: 0.1325\n",
      "Epoch 80/128\n",
      "9057/9057 [==============================] - 7s 823us/step - loss: 0.1309\n",
      "Epoch 81/128\n",
      "9057/9057 [==============================] - 7s 819us/step - loss: 0.1302\n",
      "Epoch 82/128\n",
      "9057/9057 [==============================] - 7s 811us/step - loss: 0.1295\n",
      "Epoch 83/128\n",
      "9057/9057 [==============================] - 7s 822us/step - loss: 0.1291\n",
      "Epoch 84/128\n",
      "9057/9057 [==============================] - 8s 832us/step - loss: 0.1290\n",
      "Epoch 85/128\n",
      "9057/9057 [==============================] - 7s 813us/step - loss: 0.1303\n",
      "Epoch 86/128\n",
      "9057/9057 [==============================] - 7s 814us/step - loss: 0.1297\n",
      "Epoch 87/128\n",
      "9057/9057 [==============================] - 7s 826us/step - loss: 0.1288\n",
      "Epoch 88/128\n",
      "9057/9057 [==============================] - 7s 810us/step - loss: 0.1277\n",
      "Epoch 89/128\n",
      "9057/9057 [==============================] - 7s 824us/step - loss: 0.1277\n",
      "Epoch 90/128\n",
      "9057/9057 [==============================] - 7s 821us/step - loss: 0.1279\n",
      "Epoch 91/128\n",
      "9057/9057 [==============================] - 7s 818us/step - loss: 0.1281\n",
      "Epoch 92/128\n",
      "9057/9057 [==============================] - 8s 835us/step - loss: 0.1278\n",
      "Epoch 93/128\n",
      "9057/9057 [==============================] - 7s 820us/step - loss: 0.1270\n",
      "Epoch 94/128\n",
      "9057/9057 [==============================] - 7s 819us/step - loss: 0.1268\n",
      "Epoch 95/128\n"
     ]
    },
    {
     "name": "stdout",
     "output_type": "stream",
     "text": [
      "9057/9057 [==============================] - 7s 784us/step - loss: 0.1270\n",
      "Epoch 96/128\n",
      "9057/9057 [==============================] - 7s 770us/step - loss: 0.1278\n",
      "Epoch 97/128\n",
      "9057/9057 [==============================] - 7s 793us/step - loss: 0.1263\n",
      "Epoch 98/128\n",
      "9057/9057 [==============================] - 7s 779us/step - loss: 0.1262\n",
      "Epoch 99/128\n",
      "9057/9057 [==============================] - 7s 768us/step - loss: 0.1255\n",
      "Epoch 100/128\n",
      "9057/9057 [==============================] - 7s 775us/step - loss: 0.1251\n",
      "Epoch 101/128\n",
      "9057/9057 [==============================] - 7s 799us/step - loss: 0.1247\n",
      "Epoch 102/128\n",
      "9057/9057 [==============================] - 7s 771us/step - loss: 0.1262\n",
      "Epoch 103/128\n",
      "9057/9057 [==============================] - 7s 769us/step - loss: 0.1265\n",
      "Epoch 104/128\n",
      "9057/9057 [==============================] - 7s 785us/step - loss: 0.1253\n",
      "Epoch 105/128\n",
      "9057/9057 [==============================] - 7s 770us/step - loss: 0.1244\n",
      "Epoch 106/128\n",
      "9057/9057 [==============================] - 7s 770us/step - loss: 0.1239\n",
      "Epoch 107/128\n",
      "9057/9057 [==============================] - 7s 780us/step - loss: 0.1237\n",
      "Epoch 108/128\n",
      "9057/9057 [==============================] - 7s 778us/step - loss: 0.1239\n",
      "Epoch 109/128\n",
      "9057/9057 [==============================] - 7s 774us/step - loss: 0.1236\n",
      "Epoch 110/128\n",
      "9057/9057 [==============================] - 7s 783us/step - loss: 0.1242\n",
      "Epoch 111/128\n",
      "9057/9057 [==============================] - 7s 796us/step - loss: 0.1237\n",
      "Epoch 112/128\n",
      "9057/9057 [==============================] - 7s 770us/step - loss: 0.1242\n",
      "Epoch 113/128\n",
      "9057/9057 [==============================] - 7s 779us/step - loss: 0.1226\n",
      "Epoch 114/128\n",
      "9057/9057 [==============================] - 7s 779us/step - loss: 0.1225\n",
      "Epoch 115/128\n",
      "9057/9057 [==============================] - 7s 773us/step - loss: 0.1220\n",
      "Epoch 116/128\n",
      "9057/9057 [==============================] - 7s 777us/step - loss: 0.1221\n",
      "Epoch 117/128\n",
      "9057/9057 [==============================] - 7s 784us/step - loss: 0.1219\n",
      "Epoch 118/128\n",
      "9057/9057 [==============================] - 7s 773us/step - loss: 0.1217\n",
      "Epoch 119/128\n",
      "9057/9057 [==============================] - 7s 778us/step - loss: 0.1217\n",
      "Epoch 120/128\n",
      "9057/9057 [==============================] - 7s 778us/step - loss: 0.1211\n",
      "Epoch 121/128\n",
      "9057/9057 [==============================] - 7s 761us/step - loss: 0.1221\n",
      "Epoch 122/128\n",
      "9057/9057 [==============================] - 7s 761us/step - loss: 0.1242\n",
      "Epoch 123/128\n",
      "9057/9057 [==============================] - 7s 777us/step - loss: 0.1217\n",
      "Epoch 124/128\n",
      "9057/9057 [==============================] - 7s 757us/step - loss: 0.1200\n",
      "Epoch 125/128\n",
      "9057/9057 [==============================] - 7s 771us/step - loss: 0.1194\n",
      "Epoch 126/128\n",
      "9057/9057 [==============================] - 7s 768us/step - loss: 0.1188\n",
      "Epoch 127/128\n",
      "9057/9057 [==============================] - 7s 766us/step - loss: 0.1192\n",
      "Epoch 128/128\n",
      "9057/9057 [==============================] - 7s 760us/step - loss: 0.1184\n"
     ]
    },
    {
     "data": {
      "text/plain": [
       "<keras.callbacks.History at 0x19359dab9b0>"
      ]
     },
     "execution_count": 15,
     "metadata": {},
     "output_type": "execute_result"
    }
   ],
   "source": [
    "model.fit(X_train, Y_train, epochs = 128, verbose = 1)"
   ]
  },
  {
   "cell_type": "code",
   "execution_count": 16,
   "metadata": {},
   "outputs": [
    {
     "name": "stdout",
     "output_type": "stream",
     "text": [
      "9057/9057 [==============================] - 2s 170us/step\n"
     ]
    },
    {
     "data": {
      "text/plain": [
       "0.1160883827697853"
      ]
     },
     "execution_count": 16,
     "metadata": {},
     "output_type": "execute_result"
    }
   ],
   "source": [
    "model.evaluate(X_test, Y_test, verbose = 1)"
   ]
  },
  {
   "cell_type": "code",
   "execution_count": 17,
   "metadata": {},
   "outputs": [
    {
     "name": "stdout",
     "output_type": "stream",
     "text": [
      "[-1.16304012 -0.52874706  0.38280518  0.50429881  0.24341347]\n"
     ]
    }
   ],
   "source": [
    "print(Y_test[0])"
   ]
  },
  {
   "cell_type": "code",
   "execution_count": 19,
   "metadata": {},
   "outputs": [
    {
     "name": "stdout",
     "output_type": "stream",
     "text": [
      "[[-1.0777938  -0.46479934  0.4555275   0.52240217  0.33280346]]\n"
     ]
    }
   ],
   "source": [
    "print(model.predict(X_test[0].reshape(1, 32, 5)))"
   ]
  },
  {
   "cell_type": "code",
   "execution_count": null,
   "metadata": {
    "collapsed": true
   },
   "outputs": [],
   "source": []
  }
 ],
 "metadata": {
  "kernelspec": {
   "display_name": "Python 3",
   "language": "python",
   "name": "python3"
  },
  "language_info": {
   "codemirror_mode": {
    "name": "ipython",
    "version": 3
   },
   "file_extension": ".py",
   "mimetype": "text/x-python",
   "name": "python",
   "nbconvert_exporter": "python",
   "pygments_lexer": "ipython3",
   "version": "3.6.3"
  },
  "varInspector": {
   "cols": {
    "lenName": 16,
    "lenType": 16,
    "lenVar": 40
   },
   "kernels_config": {
    "python": {
     "delete_cmd_postfix": "",
     "delete_cmd_prefix": "del ",
     "library": "var_list.py",
     "varRefreshCmd": "print(var_dic_list())"
    },
    "r": {
     "delete_cmd_postfix": ") ",
     "delete_cmd_prefix": "rm(",
     "library": "var_list.r",
     "varRefreshCmd": "cat(var_dic_list()) "
    }
   },
   "types_to_exclude": [
    "module",
    "function",
    "builtin_function_or_method",
    "instance",
    "_Feature"
   ],
   "window_display": false
  }
 },
 "nbformat": 4,
 "nbformat_minor": 2
}
